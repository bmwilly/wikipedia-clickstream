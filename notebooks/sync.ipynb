{
 "cells": [
  {
   "cell_type": "markdown",
   "metadata": {},
   "source": [
    "# S3 Sync"
   ]
  },
  {
   "cell_type": "code",
   "execution_count": 2,
   "metadata": {},
   "outputs": [],
   "source": [
    "import os \n",
    "from pathlib import Path"
   ]
  },
  {
   "cell_type": "code",
   "execution_count": 3,
   "metadata": {},
   "outputs": [],
   "source": [
    "bundle_root = Path(os.environ['LABS_BUNDLE_ROOT'])\n",
    "data_dir = bundle_root / 'data'"
   ]
  },
  {
   "cell_type": "markdown",
   "metadata": {},
   "source": [
    "## From S3 to local"
   ]
  },
  {
   "cell_type": "code",
   "execution_count": 5,
   "metadata": {},
   "outputs": [
    {
     "name": "stdout",
     "output_type": "stream",
     "text": [
      "(dryrun) upload: ../data/processed/wikipedia_referer.parquet to s3://contiamo-datascience/wikipedia-clickstream/processed/wikipedia_referer.parquet\n",
      "(dryrun) upload: ../data/raw/clickstream-enwiki-2018-01.tsv.gz to s3://contiamo-datascience/wikipedia-clickstream/raw/clickstream-enwiki-2018-01.tsv.gz\n"
     ]
    }
   ],
   "source": [
    "!aws s3 sync $data_dir s3://contiamo-datascience/wikipedia-clickstream --dryrun"
   ]
  },
  {
   "cell_type": "code",
   "execution_count": 6,
   "metadata": {},
   "outputs": [],
   "source": [
    "!aws s3 sync $data_dir s3://contiamo-datascience/wikipedia-clickstream --quiet"
   ]
  },
  {
   "cell_type": "markdown",
   "metadata": {},
   "source": [
    "## From local to S3"
   ]
  },
  {
   "cell_type": "code",
   "execution_count": 4,
   "metadata": {},
   "outputs": [
    {
     "name": "stdout",
     "output_type": "stream",
     "text": [
      "(dryrun) upload: ../data/processed/2018-01.parquet to s3://contiamo-datascience/wikipedia-clickstream/processed/2018-01.parquet\n",
      "(dryrun) upload: ../data/processed/clean.parquet to s3://contiamo-datascience/wikipedia-clickstream/processed/clean.parquet\n"
     ]
    }
   ],
   "source": [
    "!aws s3 sync $data_dir s3://contiamo-datascience/wikipedia-clickstream --dryrun"
   ]
  },
  {
   "cell_type": "code",
   "execution_count": 5,
   "metadata": {},
   "outputs": [],
   "source": [
    "!aws s3 sync $data_dir s3://contiamo-datascience/wikipedia-clickstream --quiet"
   ]
  },
  {
   "cell_type": "code",
   "execution_count": null,
   "metadata": {},
   "outputs": [],
   "source": []
  }
 ],
 "metadata": {
  "kernelspec": {
   "display_name": "Python 3",
   "language": "python",
   "name": "python3"
  },
  "language_info": {
   "codemirror_mode": {
    "name": "ipython",
    "version": 3
   },
   "file_extension": ".py",
   "mimetype": "text/x-python",
   "name": "python",
   "nbconvert_exporter": "python",
   "pygments_lexer": "ipython3",
   "version": "3.6.3"
  }
 },
 "nbformat": 4,
 "nbformat_minor": 2
}
