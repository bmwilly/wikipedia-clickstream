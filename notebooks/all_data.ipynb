{
 "cells": [
  {
   "cell_type": "markdown",
   "metadata": {},
   "source": [
    "# Wikipedia Clickstream"
   ]
  },
  {
   "cell_type": "markdown",
   "metadata": {},
   "source": [
    "## Get data"
   ]
  },
  {
   "cell_type": "code",
   "execution_count": 3,
   "metadata": {},
   "outputs": [],
   "source": [
    "import gzip\n",
    "import os \n",
    "from pathlib import Path\n",
    "from urllib import request\n",
    "import zipfile\n",
    "\n",
    "import pandas as pd"
   ]
  },
  {
   "cell_type": "code",
   "execution_count": 4,
   "metadata": {},
   "outputs": [],
   "source": [
    "bundle_root = Path(os.environ['LABS_BUNDLE_ROOT'])\n",
    "data_raw = bundle_root / 'data' / 'raw'"
   ]
  },
  {
   "cell_type": "code",
   "execution_count": 6,
   "metadata": {},
   "outputs": [],
   "source": [
    "def maybe_download(filename):\n",
    "    \"\"\"Download a file if not present.\"\"\"    \n",
    "    dest_filename = data_raw / filename\n",
    "    if not dest_filename.exists():\n",
    "        print(\"Attempting to download:\", filename)\n",
    "        request.urlretrieve(url + filename, dest_filename)\n",
    "        print(\"Download complete!\")\n",
    "    return dest_filename"
   ]
  },
  {
   "cell_type": "markdown",
   "metadata": {},
   "source": [
    "### All historical data"
   ]
  },
  {
   "cell_type": "code",
   "execution_count": 8,
   "metadata": {},
   "outputs": [],
   "source": [
    "clickstream_filename = maybe_download(\"https://ndownloader.figshare.com/articles/1305770/versions/22\", \"clickstream.zip\")"
   ]
  },
  {
   "cell_type": "code",
   "execution_count": 9,
   "metadata": {},
   "outputs": [],
   "source": [
    "def maybe_extract(filename):\n",
    "    \"\"\"Unzip a file if it's not already unzipped.\"\"\"\n",
    "    root, ext = os.path.splitext(filename)\n",
    "    if not os.path.isdir(root):\n",
    "        print(\"Extracting data for %s.\" % root)\n",
    "        if ext == \".zip\":\n",
    "            with zipfile.ZipFile(filename, 'r') as f:\n",
    "                f.extractall(root)\n",
    "        else:\n",
    "            raise ValueError(\"Extension %s not recognized.\" % ext)\n",
    "    return [os.path.join(root, d) for d in sorted(os.listdir(root)) if d != '.DS_Store']"
   ]
  },
  {
   "cell_type": "code",
   "execution_count": 10,
   "metadata": {},
   "outputs": [],
   "source": [
    "clickstream_filenames = maybe_extract(clickstream_filename)"
   ]
  },
  {
   "cell_type": "code",
   "execution_count": 11,
   "metadata": {},
   "outputs": [
    {
     "data": {
      "text/plain": [
       "['/Users/brandon/go/src/github.com/contiamo/labs/examples/wikipedia_clickstream/data/raw/clickstream/2015_01_en_clickstream.tsv.gz',\n",
       " '/Users/brandon/go/src/github.com/contiamo/labs/examples/wikipedia_clickstream/data/raw/clickstream/2015_02_en_clickstream.tsv.gz',\n",
       " '/Users/brandon/go/src/github.com/contiamo/labs/examples/wikipedia_clickstream/data/raw/clickstream/2016_02_en_clickstream.tsv.gz',\n",
       " '/Users/brandon/go/src/github.com/contiamo/labs/examples/wikipedia_clickstream/data/raw/clickstream/2016_03_en_clickstream.tsv.gz',\n",
       " '/Users/brandon/go/src/github.com/contiamo/labs/examples/wikipedia_clickstream/data/raw/clickstream/2016_04_ar_clickstream.tsv.gz',\n",
       " '/Users/brandon/go/src/github.com/contiamo/labs/examples/wikipedia_clickstream/data/raw/clickstream/2016_04_en_clickstream.tsv.gz',\n",
       " '/Users/brandon/go/src/github.com/contiamo/labs/examples/wikipedia_clickstream/data/raw/clickstream/2016_04_fa_clickstream.tsv.gz',\n",
       " '/Users/brandon/go/src/github.com/contiamo/labs/examples/wikipedia_clickstream/data/raw/clickstream/2016_08_en_clickstream.tsv.gz',\n",
       " '/Users/brandon/go/src/github.com/contiamo/labs/examples/wikipedia_clickstream/data/raw/clickstream/2016_08_en_unresolved_clickstream.tsv.gz',\n",
       " '/Users/brandon/go/src/github.com/contiamo/labs/examples/wikipedia_clickstream/data/raw/clickstream/2016_09_en_clickstream.tsv.gz',\n",
       " '/Users/brandon/go/src/github.com/contiamo/labs/examples/wikipedia_clickstream/data/raw/clickstream/2017_01_en_clickstream.tsv.gz']"
      ]
     },
     "execution_count": 11,
     "metadata": {},
     "output_type": "execute_result"
    }
   ],
   "source": [
    "clickstream_filenames"
   ]
  },
  {
   "cell_type": "code",
   "execution_count": null,
   "metadata": {},
   "outputs": [],
   "source": []
  }
 ],
 "metadata": {
  "kernelspec": {
   "display_name": "Python 3",
   "language": "python",
   "name": "python3"
  },
  "language_info": {
   "codemirror_mode": {
    "name": "ipython",
    "version": 3
   },
   "file_extension": ".py",
   "mimetype": "text/x-python",
   "name": "python",
   "nbconvert_exporter": "python",
   "pygments_lexer": "ipython3",
   "version": "3.6.3"
  },
  "latex_envs": {
   "LaTeX_envs_menu_present": true,
   "autocomplete": true,
   "bibliofile": "biblio.bib",
   "cite_by": "apalike",
   "current_citInitial": 1,
   "eqLabelWithNumbers": true,
   "eqNumInitial": 1,
   "hotkeys": {
    "equation": "Ctrl-E",
    "itemize": "Ctrl-I"
   },
   "labels_anchors": false,
   "latex_user_defs": false,
   "report_style_numbering": false,
   "user_envs_cfg": false
  },
  "toc": {
   "nav_menu": {},
   "number_sections": true,
   "sideBar": true,
   "skip_h1_title": false,
   "title_cell": "Table of Contents",
   "title_sidebar": "Contents",
   "toc_cell": false,
   "toc_position": {},
   "toc_section_display": true,
   "toc_window_display": false
  }
 },
 "nbformat": 4,
 "nbformat_minor": 2
}
