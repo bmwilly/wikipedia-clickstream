{
 "cells": [
  {
   "cell_type": "code",
   "execution_count": 1,
   "metadata": {},
   "outputs": [
    {
     "name": "stderr",
     "output_type": "stream",
     "text": [
      "Loading tidyverse: ggplot2\n",
      "Loading tidyverse: tibble\n",
      "Loading tidyverse: tidyr\n",
      "Loading tidyverse: readr\n",
      "Loading tidyverse: purrr\n",
      "Loading tidyverse: dplyr\n",
      "Conflicts with tidy packages ---------------------------------------------------\n",
      "filter(): dplyr, stats\n",
      "lag():    dplyr, stats\n"
     ]
    }
   ],
   "source": [
    "library(feather)\n",
    "library(tidyverse)"
   ]
  },
  {
   "cell_type": "code",
   "execution_count": 2,
   "metadata": {},
   "outputs": [],
   "source": [
    "dat <- read_feather('/labs/data/processed/wikipedia_referer.feather')"
   ]
  },
  {
   "cell_type": "code",
   "execution_count": 3,
   "metadata": {},
   "outputs": [
    {
     "data": {
      "text/html": [
       "<table>\n",
       "<thead><tr><th scope=col>prev</th><th scope=col>curr</th><th scope=col>type</th><th scope=col>n</th></tr></thead>\n",
       "<tbody>\n",
       "\t<tr><td>TACV                    </td><td>TACV_destinations       </td><td>link                    </td><td>501                     </td></tr>\n",
       "\t<tr><td>Femme_Fatales_(magazine)</td><td>Brinke_Stevens          </td><td>link                    </td><td> 18                     </td></tr>\n",
       "\t<tr><td>Linnea_Quigley          </td><td>Brinke_Stevens          </td><td>link                    </td><td> 46                     </td></tr>\n",
       "\t<tr><td>List_of_cosplayers      </td><td>Brinke_Stevens          </td><td>link                    </td><td> 10                     </td></tr>\n",
       "\t<tr><td>Emmanuelle_4            </td><td>Brinke_Stevens          </td><td>link                    </td><td> 27                     </td></tr>\n",
       "\t<tr><td>Dave_Stevens            </td><td>Brinke_Stevens          </td><td>link                    </td><td> 80                     </td></tr>\n",
       "</tbody>\n",
       "</table>\n"
      ],
      "text/latex": [
       "\\begin{tabular}{r|llll}\n",
       " prev & curr & type & n\\\\\n",
       "\\hline\n",
       "\t TACV                     & TACV\\_destinations      & link                     & 501                     \\\\\n",
       "\t Femme\\_Fatales\\_(magazine) & Brinke\\_Stevens             & link                         &  18                         \\\\\n",
       "\t Linnea\\_Quigley           & Brinke\\_Stevens           & link                       &  46                       \\\\\n",
       "\t List\\_of\\_cosplayers       & Brinke\\_Stevens             & link                         &  10                         \\\\\n",
       "\t Emmanuelle\\_4             & Brinke\\_Stevens           & link                       &  27                       \\\\\n",
       "\t Dave\\_Stevens             & Brinke\\_Stevens           & link                       &  80                       \\\\\n",
       "\\end{tabular}\n"
      ],
      "text/markdown": [
       "\n",
       "prev | curr | type | n | \n",
       "|---|---|---|---|---|---|\n",
       "| TACV                     | TACV_destinations        | link                     | 501                      | \n",
       "| Femme_Fatales_(magazine) | Brinke_Stevens           | link                     |  18                      | \n",
       "| Linnea_Quigley           | Brinke_Stevens           | link                     |  46                      | \n",
       "| List_of_cosplayers       | Brinke_Stevens           | link                     |  10                      | \n",
       "| Emmanuelle_4             | Brinke_Stevens           | link                     |  27                      | \n",
       "| Dave_Stevens             | Brinke_Stevens           | link                     |  80                      | \n",
       "\n",
       "\n"
      ],
      "text/plain": [
       "  prev                     curr              type n  \n",
       "1 TACV                     TACV_destinations link 501\n",
       "2 Femme_Fatales_(magazine) Brinke_Stevens    link  18\n",
       "3 Linnea_Quigley           Brinke_Stevens    link  46\n",
       "4 List_of_cosplayers       Brinke_Stevens    link  10\n",
       "5 Emmanuelle_4             Brinke_Stevens    link  27\n",
       "6 Dave_Stevens             Brinke_Stevens    link  80"
      ]
     },
     "metadata": {},
     "output_type": "display_data"
    }
   ],
   "source": [
    "head(dat)"
   ]
  },
  {
   "cell_type": "code",
   "execution_count": 9,
   "metadata": {},
   "outputs": [
    {
     "name": "stderr",
     "output_type": "stream",
     "text": [
      "Using `n` as weighting variable\n"
     ]
    },
    {
     "data": {
      "text/html": [
       "<table>\n",
       "<thead><tr><th scope=col>curr</th><th scope=col>nn</th></tr></thead>\n",
       "<tbody>\n",
       "\t<tr><td>Maglev                           </td><td>1035                             </td></tr>\n",
       "\t<tr><td>La_Journée_de_la_jupe            </td><td> 298                             </td></tr>\n",
       "\t<tr><td>List_of_missing_ships            </td><td> 223                             </td></tr>\n",
       "\t<tr><td>Derek_Poundstone                 </td><td> 212                             </td></tr>\n",
       "\t<tr><td>IEC_60320                        </td><td> 210                             </td></tr>\n",
       "\t<tr><td>Rockdale_County,_Georgia         </td><td> 131                             </td></tr>\n",
       "\t<tr><td>Cataplexy                        </td><td> 124                             </td></tr>\n",
       "\t<tr><td>North_Korea–South_Korea_relations</td><td> 115                             </td></tr>\n",
       "\t<tr><td>Alex_and_Ani                     </td><td> 109                             </td></tr>\n",
       "\t<tr><td>Theosophy                        </td><td> 108                             </td></tr>\n",
       "</tbody>\n",
       "</table>\n"
      ],
      "text/latex": [
       "\\begin{tabular}{r|ll}\n",
       " curr & nn\\\\\n",
       "\\hline\n",
       "\t Maglev                            & 1035                             \\\\\n",
       "\t La\\_Journée\\_de\\_la\\_jupe             &  298                                     \\\\\n",
       "\t List\\_of\\_missing\\_ships             &  223                                   \\\\\n",
       "\t Derek\\_Poundstone                  &  212                               \\\\\n",
       "\t IEC\\_60320                         &  210                               \\\\\n",
       "\t Rockdale\\_County,\\_Georgia          &  131                                 \\\\\n",
       "\t Cataplexy                         &  124                             \\\\\n",
       "\t North\\_Korea–South\\_Korea\\_relations &  115                                   \\\\\n",
       "\t Alex\\_and\\_Ani                      &  109                                 \\\\\n",
       "\t Theosophy                         &  108                             \\\\\n",
       "\\end{tabular}\n"
      ],
      "text/markdown": [
       "\n",
       "curr | nn | \n",
       "|---|---|---|---|---|---|---|---|---|---|\n",
       "| Maglev                            | 1035                              | \n",
       "| La_Journée_de_la_jupe             |  298                              | \n",
       "| List_of_missing_ships             |  223                              | \n",
       "| Derek_Poundstone                  |  212                              | \n",
       "| IEC_60320                         |  210                              | \n",
       "| Rockdale_County,_Georgia          |  131                              | \n",
       "| Cataplexy                         |  124                              | \n",
       "| North_Korea–South_Korea_relations |  115                              | \n",
       "| Alex_and_Ani                      |  109                              | \n",
       "| Theosophy                         |  108                              | \n",
       "\n",
       "\n"
      ],
      "text/plain": [
       "   curr                              nn  \n",
       "1  Maglev                            1035\n",
       "2  La_Journée_de_la_jupe              298\n",
       "3  List_of_missing_ships              223\n",
       "4  Derek_Poundstone                   212\n",
       "5  IEC_60320                          210\n",
       "6  Rockdale_County,_Georgia           131\n",
       "7  Cataplexy                          124\n",
       "8  North_Korea–South_Korea_relations  115\n",
       "9  Alex_and_Ani                       109\n",
       "10 Theosophy                          108"
      ]
     },
     "metadata": {},
     "output_type": "display_data"
    }
   ],
   "source": [
    "dat %>%\n",
    "    sample_n(100) %>%\n",
    "    group_by(curr) %>%\n",
    "    tally() %>%\n",
    "    arrange(desc(nn)) %>%\n",
    "    head(10)"
   ]
  },
  {
   "cell_type": "code",
   "execution_count": null,
   "metadata": {},
   "outputs": [],
   "source": []
  }
 ],
 "metadata": {
  "kernelspec": {
   "display_name": "R",
   "language": "R",
   "name": "ir"
  },
  "language_info": {
   "codemirror_mode": "r",
   "file_extension": ".r",
   "mimetype": "text/x-r-source",
   "name": "R",
   "pygments_lexer": "r",
   "version": "3.3.2"
  }
 },
 "nbformat": 4,
 "nbformat_minor": 2
}
