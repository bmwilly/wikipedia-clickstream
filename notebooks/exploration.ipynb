{
 "cells": [
  {
   "cell_type": "markdown",
   "metadata": {},
   "source": [
    "# Exploration"
   ]
  },
  {
   "cell_type": "code",
   "execution_count": 2,
   "metadata": {},
   "outputs": [],
   "source": [
    "import os\n",
    "from pathlib import Path\n",
    "\n",
    "import matplotlib.pyplot as plt\n",
    "import pandas as pd"
   ]
  },
  {
   "cell_type": "code",
   "execution_count": 16,
   "metadata": {},
   "outputs": [],
   "source": [
    "bundle_root = Path(os.environ['LABS_BUNDLE_ROOT'])\n",
    "data_processed = bundle_root / 'data' / 'processed'"
   ]
  },
  {
   "cell_type": "code",
   "execution_count": 19,
   "metadata": {},
   "outputs": [],
   "source": [
    "dat = pd.read_parquet(data_processed / 'wikipedia_referer.parquet')"
   ]
  },
  {
   "cell_type": "markdown",
   "metadata": {},
   "source": [
    "## Clean data"
   ]
  },
  {
   "cell_type": "markdown",
   "metadata": {},
   "source": [
    "### Only keep internal referers"
   ]
  },
  {
   "cell_type": "code",
   "execution_count": 20,
   "metadata": {},
   "outputs": [
    {
     "data": {
      "text/plain": [
       "link        16647016\n",
       "other         843609\n",
       "external           1\n",
       "Name: type, dtype: int64"
      ]
     },
     "execution_count": 20,
     "metadata": {},
     "output_type": "execute_result"
    }
   ],
   "source": [
    "dat['type'].value_counts()"
   ]
  },
  {
   "cell_type": "markdown",
   "metadata": {},
   "source": [
    "We have one row where `type == external`, which should be impossible since we're only looking at data where Wikipedia was the referer. Remove this row of bad data. "
   ]
  },
  {
   "cell_type": "code",
   "execution_count": 7,
   "metadata": {},
   "outputs": [
    {
     "data": {
      "text/html": [
       "<div>\n",
       "<style scoped>\n",
       "    .dataframe tbody tr th:only-of-type {\n",
       "        vertical-align: middle;\n",
       "    }\n",
       "\n",
       "    .dataframe tbody tr th {\n",
       "        vertical-align: top;\n",
       "    }\n",
       "\n",
       "    .dataframe thead th {\n",
       "        text-align: right;\n",
       "    }\n",
       "</style>\n",
       "<table border=\"1\" class=\"dataframe\">\n",
       "  <thead>\n",
       "    <tr style=\"text-align: right;\">\n",
       "      <th></th>\n",
       "      <th>prev</th>\n",
       "      <th>curr</th>\n",
       "      <th>type</th>\n",
       "      <th>n</th>\n",
       "    </tr>\n",
       "  </thead>\n",
       "  <tbody>\n",
       "    <tr>\n",
       "      <th>25776972</th>\n",
       "      <td>Quotation_mark</td>\n",
       "      <td>_(disambiguation)\\tlink\\t238\\nother-empty\\t_(d...</td>\n",
       "      <td>external</td>\n",
       "      <td>180</td>\n",
       "    </tr>\n",
       "  </tbody>\n",
       "</table>\n",
       "</div>"
      ],
      "text/plain": [
       "                    prev                                               curr  \\\n",
       "25776972  Quotation_mark  _(disambiguation)\\tlink\\t238\\nother-empty\\t_(d...   \n",
       "\n",
       "              type    n  \n",
       "25776972  external  180  "
      ]
     },
     "execution_count": 7,
     "metadata": {},
     "output_type": "execute_result"
    }
   ],
   "source": [
    "dat.loc[dat['type'] == 'external']"
   ]
  },
  {
   "cell_type": "markdown",
   "metadata": {},
   "source": [
    "Furthermore, we're not interested in `type == other`. This only occurs when the client manually searches or [spoofs](https://en.wikipedia.org/wiki/Referer_spoofing) their refer. Since it is a small proportion of the data (~4.8%), and since we cannot say much about it (why is the most frequest request `Hyphen-minus`?), we'll remove this case from the data. "
   ]
  },
  {
   "cell_type": "code",
   "execution_count": 8,
   "metadata": {},
   "outputs": [
    {
     "data": {
      "text/html": [
       "<div>\n",
       "<style scoped>\n",
       "    .dataframe tbody tr th:only-of-type {\n",
       "        vertical-align: middle;\n",
       "    }\n",
       "\n",
       "    .dataframe tbody tr th {\n",
       "        vertical-align: top;\n",
       "    }\n",
       "\n",
       "    .dataframe thead th {\n",
       "        text-align: right;\n",
       "    }\n",
       "</style>\n",
       "<table border=\"1\" class=\"dataframe\">\n",
       "  <thead>\n",
       "    <tr style=\"text-align: right;\">\n",
       "      <th></th>\n",
       "      <th></th>\n",
       "      <th>n</th>\n",
       "    </tr>\n",
       "    <tr>\n",
       "      <th>curr</th>\n",
       "      <th>type</th>\n",
       "      <th></th>\n",
       "    </tr>\n",
       "  </thead>\n",
       "  <tbody>\n",
       "    <tr>\n",
       "      <th>Hyphen-minus</th>\n",
       "      <th>other</th>\n",
       "      <td>8155828</td>\n",
       "    </tr>\n",
       "  </tbody>\n",
       "</table>\n",
       "</div>"
      ],
      "text/plain": [
       "                          n\n",
       "curr         type          \n",
       "Hyphen-minus other  8155828"
      ]
     },
     "execution_count": 8,
     "metadata": {},
     "output_type": "execute_result"
    }
   ],
   "source": [
    "dat.groupby(['curr', 'type']).sum().sort_values('n', ascending=False).head(1)"
   ]
  },
  {
   "cell_type": "code",
   "execution_count": 9,
   "metadata": {},
   "outputs": [],
   "source": [
    "df = dat.loc[dat['type'] == 'link', ['prev', 'curr', 'n']]"
   ]
  },
  {
   "cell_type": "markdown",
   "metadata": {},
   "source": [
    "## Analysis"
   ]
  },
  {
   "cell_type": "markdown",
   "metadata": {},
   "source": [
    "### Top requests\n",
    "\n",
    "The following pages are the most common requests. The list is dominated by pages related to popular TV shows (_Black Mirror_, _The Crown_, _American Crime Story_). "
   ]
  },
  {
   "cell_type": "code",
   "execution_count": 10,
   "metadata": {},
   "outputs": [
    {
     "data": {
      "text/html": [
       "<div>\n",
       "<style scoped>\n",
       "    .dataframe tbody tr th:only-of-type {\n",
       "        vertical-align: middle;\n",
       "    }\n",
       "\n",
       "    .dataframe tbody tr th {\n",
       "        vertical-align: top;\n",
       "    }\n",
       "\n",
       "    .dataframe thead th {\n",
       "        text-align: right;\n",
       "    }\n",
       "</style>\n",
       "<table border=\"1\" class=\"dataframe\">\n",
       "  <thead>\n",
       "    <tr style=\"text-align: right;\">\n",
       "      <th></th>\n",
       "      <th>n</th>\n",
       "    </tr>\n",
       "    <tr>\n",
       "      <th>curr</th>\n",
       "      <th></th>\n",
       "    </tr>\n",
       "  </thead>\n",
       "  <tbody>\n",
       "    <tr>\n",
       "      <th>Deaths_in_2018</th>\n",
       "      <td>1348006</td>\n",
       "    </tr>\n",
       "    <tr>\n",
       "      <th>List_of_Black_Mirror_episodes</th>\n",
       "      <td>688464</td>\n",
       "    </tr>\n",
       "    <tr>\n",
       "      <th>Elizabeth_II</th>\n",
       "      <td>584683</td>\n",
       "    </tr>\n",
       "    <tr>\n",
       "      <th>George_VI</th>\n",
       "      <td>450487</td>\n",
       "    </tr>\n",
       "    <tr>\n",
       "      <th>Edward_VIII</th>\n",
       "      <td>376746</td>\n",
       "    </tr>\n",
       "    <tr>\n",
       "      <th>Dolores_O'Riordan</th>\n",
       "      <td>372236</td>\n",
       "    </tr>\n",
       "    <tr>\n",
       "      <th>George_V</th>\n",
       "      <td>350654</td>\n",
       "    </tr>\n",
       "    <tr>\n",
       "      <th>Charles,_Prince_of_Wales</th>\n",
       "      <td>347034</td>\n",
       "    </tr>\n",
       "    <tr>\n",
       "      <th>Andrew_Cunanan</th>\n",
       "      <td>330003</td>\n",
       "    </tr>\n",
       "    <tr>\n",
       "      <th>Edward_VII</th>\n",
       "      <td>325533</td>\n",
       "    </tr>\n",
       "  </tbody>\n",
       "</table>\n",
       "</div>"
      ],
      "text/plain": [
       "                                     n\n",
       "curr                                  \n",
       "Deaths_in_2018                 1348006\n",
       "List_of_Black_Mirror_episodes   688464\n",
       "Elizabeth_II                    584683\n",
       "George_VI                       450487\n",
       "Edward_VIII                     376746\n",
       "Dolores_O'Riordan               372236\n",
       "George_V                        350654\n",
       "Charles,_Prince_of_Wales        347034\n",
       "Andrew_Cunanan                  330003\n",
       "Edward_VII                      325533"
      ]
     },
     "execution_count": 10,
     "metadata": {},
     "output_type": "execute_result"
    }
   ],
   "source": [
    "df.groupby('curr').sum().sort_values('n', ascending=False).head(10)"
   ]
  },
  {
   "cell_type": "markdown",
   "metadata": {},
   "source": [
    "### Distribution of pairing counts\n",
    "\n",
    "Note that the distribution of pairings counts follows a Poisson distribution. We should keep this in mind when it comes time to choose the appropriate model (e.g., linear regression would not do well here). "
   ]
  },
  {
   "cell_type": "code",
   "execution_count": 11,
   "metadata": {},
   "outputs": [
    {
     "data": {
      "image/png": "[encoded data removed]",
      "text/plain": [
       "<matplotlib.figure.Figure at 0x7f1ed00c2550>"
      ]
     },
     "metadata": {},
     "output_type": "display_data"
    }
   ],
   "source": [
    "dfp = df[df['n'] <= 1000]\n",
    "plt.hist(dfp['n'], bins=100, log=True)\n",
    "plt.title(\"Wikipedia clickstream pairings count histogram (log-scale)\");"
   ]
  },
  {
   "cell_type": "markdown",
   "metadata": {},
   "source": [
    "## Write to disk"
   ]
  },
  {
   "cell_type": "code",
   "execution_count": 15,
   "metadata": {},
   "outputs": [],
   "source": [
    "df.to_parquet(data_processed / 'clean.parquet')"
   ]
  },
  {
   "cell_type": "code",
   "execution_count": null,
   "metadata": {},
   "outputs": [],
   "source": []
  }
 ],
 "metadata": {
  "kernelspec": {
   "display_name": "Python 3",
   "language": "python",
   "name": "python3"
  },
  "language_info": {
   "codemirror_mode": {
    "name": "ipython",
    "version": 3
   },
   "file_extension": ".py",
   "mimetype": "text/x-python",
   "name": "python",
   "nbconvert_exporter": "python",
   "pygments_lexer": "ipython3",
   "version": "3.6.3"
  }
 },
 "nbformat": 4,
 "nbformat_minor": 2
}
