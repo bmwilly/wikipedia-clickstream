{
 "cells": [
  {
   "cell_type": "markdown",
   "metadata": {},
   "source": [
    "# Wikipedia Clickstream\n",
    "\n",
    "The idea for this analysis was inspired by [this blog post](https://blog.wikimedia.org/2018/01/16/wikipedia-rabbit-hole-clickstream/). "
   ]
  },
  {
   "cell_type": "code",
   "execution_count": 1,
   "metadata": {},
   "outputs": [],
   "source": [
    "import os \n",
    "from pathlib import Path\n",
    "from urllib import request\n",
    "\n",
    "import pandas as pd"
   ]
  },
  {
   "cell_type": "code",
   "execution_count": 2,
   "metadata": {},
   "outputs": [],
   "source": [
    "bundle_root = Path(os.environ['LABS_BUNDLE_ROOT'])\n",
    "data_dir = bundle_root / 'data'\n",
    "data_raw = data_dir / 'raw'\n",
    "data_processed = data_dir / 'processed'"
   ]
  },
  {
   "cell_type": "code",
   "execution_count": 3,
   "metadata": {},
   "outputs": [],
   "source": [
    "data_raw.mkdir(exist_ok=True, parents=True)\n",
    "data_processed.mkdir(exist_ok=True, parents=True)"
   ]
  },
  {
   "cell_type": "markdown",
   "metadata": {},
   "source": [
    "## Get data"
   ]
  },
  {
   "cell_type": "code",
   "execution_count": 5,
   "metadata": {},
   "outputs": [],
   "source": [
    "url = \"https://dumps.wikimedia.org/other/clickstream/2018-01/\"\n",
    "\n",
    "def maybe_download(filename):\n",
    "    \"\"\"Download a file if not present.\"\"\"    \n",
    "    dest_filename = data_raw / filename\n",
    "    if not dest_filename.exists():\n",
    "        print(\"Attempting to download:\", filename)\n",
    "        request.urlretrieve(url + filename, dest_filename)\n",
    "        print(\"Download complete!\")\n",
    "    return dest_filename"
   ]
  },
  {
   "cell_type": "markdown",
   "metadata": {},
   "source": [
    "We'll use the most recent month of data that is available, which is from January 2018. \n",
    "\n",
    "The data is made up of counts of _(referer, resource)_ pairs. The resource is the Wikipedia page that the user lands on and the referer is how they got there (via a link, a search, etc.). \n",
    "\n",
    "The data contains about 28.5M of these _(referer, resource)_ pairs."
   ]
  },
  {
   "cell_type": "code",
   "execution_count": 6,
   "metadata": {},
   "outputs": [],
   "source": [
    "# Takes ~3 minutes on my machine if not already downloaded\n",
    "clickstream_filename = maybe_download(\"clickstream-enwiki-2018-01.tsv.gz\")"
   ]
  },
  {
   "cell_type": "code",
   "execution_count": 7,
   "metadata": {},
   "outputs": [
    {
     "name": "stdout",
     "output_type": "stream",
     "text": [
      "CPU times: user 23.3 s, sys: 1.17 s, total: 24.5 s\n",
      "Wall time: 24.5 s\n"
     ]
    }
   ],
   "source": [
    "%%time \n",
    "# use na_filter=False because the entry 'NaN' refers to https://en.wikipedia.org/wiki/NaN\n",
    "dat = pd.read_csv(\n",
    "    clickstream_filename, sep='\\t', names=['prev', 'curr', 'type', 'n'], na_filter=False)"
   ]
  },
  {
   "cell_type": "code",
   "execution_count": 8,
   "metadata": {},
   "outputs": [
    {
     "data": {
      "text/plain": [
       "'The data has 28,538,901 rows.'"
      ]
     },
     "execution_count": 8,
     "metadata": {},
     "output_type": "execute_result"
    }
   ],
   "source": [
    "\"The data has {:,} rows.\".format(len(dat))"
   ]
  },
  {
   "cell_type": "markdown",
   "metadata": {},
   "source": [
    "Referers are grouped in the following way: \n",
    "\n",
    "- article in main [namespace](https://en.wikipedia.org/wiki/Wikipedia:Namespace) of Wikipedia --> article title\n",
    "- article in other Wikimedia project --> `other-internal`\n",
    "- external search engine --> `other-search`\n",
    "- other external site --> `other-external`\n",
    "- [empty referer](https://stackoverflow.com/a/6880668) --> `other-empty`\n",
    "- anything else --> `other-other`\n",
    "\n",
    "The data contains the following columns:\n",
    "\n",
    "- **prev**: the referer group \n",
    "- **curr**: title of the requested article \n",
    "- **type**: one of \n",
    "    - `link`: referer and request are both articles, and referer links to request\n",
    "    - `external`: referer host is not `en(.m)?.wikipedia.org`\n",
    "    - `other`: referer and request are both articles, and referer does not link to request\n",
    "- **n**: number of occurrences of the _(referer, resource)_ pair\n",
    "\n",
    "Please see [here](https://meta.wikimedia.org/wiki/Research:Wikipedia_clickstream) for a more in-depth explanation of the data."
   ]
  },
  {
   "cell_type": "markdown",
   "metadata": {},
   "source": [
    "## Write to disk"
   ]
  },
  {
   "cell_type": "code",
   "execution_count": 10,
   "metadata": {},
   "outputs": [],
   "source": [
    "dat.to_parquet(data_processed / '2018-01.parquet')"
   ]
  },
  {
   "cell_type": "markdown",
   "metadata": {},
   "source": [
    "For our analysis, we're only interested in clickstreams from and to Wikipedia, i.e., where the referer is another Wikipedia article. Write this data to a Parquet file so that we can use it for future analysis. "
   ]
  },
  {
   "cell_type": "code",
   "execution_count": 13,
   "metadata": {},
   "outputs": [],
   "source": [
    "df = dat.loc[~dat['prev'].str.startswith('other')]"
   ]
  },
  {
   "cell_type": "code",
   "execution_count": 14,
   "metadata": {},
   "outputs": [
    {
     "data": {
      "text/plain": [
       "'The data where the referer was Wikipedia has 17,490,626 rows.'"
      ]
     },
     "execution_count": 14,
     "metadata": {},
     "output_type": "execute_result"
    }
   ],
   "source": [
    "\"The data where the referer was Wikipedia has {:,} rows.\".format(len(df))"
   ]
  },
  {
   "cell_type": "code",
   "execution_count": 15,
   "metadata": {},
   "outputs": [],
   "source": [
    "df.to_parquet(data_processed / 'wikipedia_referer.parquet')"
   ]
  },
  {
   "cell_type": "code",
   "execution_count": null,
   "metadata": {},
   "outputs": [],
   "source": []
  }
 ],
 "metadata": {
  "kernelspec": {
   "display_name": "Python 3",
   "language": "python",
   "name": "python3"
  },
  "language_info": {
   "codemirror_mode": {
    "name": "ipython",
    "version": 3
   },
   "file_extension": ".py",
   "mimetype": "text/x-python",
   "name": "python",
   "nbconvert_exporter": "python",
   "pygments_lexer": "ipython3",
   "version": "3.6.3"
  },
  "latex_envs": {
   "LaTeX_envs_menu_present": true,
   "autocomplete": true,
   "bibliofile": "biblio.bib",
   "cite_by": "apalike",
   "current_citInitial": 1,
   "eqLabelWithNumbers": true,
   "eqNumInitial": 1,
   "hotkeys": {
    "equation": "Ctrl-E",
    "itemize": "Ctrl-I"
   },
   "labels_anchors": false,
   "latex_user_defs": false,
   "report_style_numbering": false,
   "user_envs_cfg": false
  },
  "toc": {
   "nav_menu": {},
   "number_sections": true,
   "sideBar": true,
   "skip_h1_title": true,
   "title_cell": "Table of Contents",
   "title_sidebar": "Contents",
   "toc_cell": false,
   "toc_position": {},
   "toc_section_display": true,
   "toc_window_display": false
  }
 },
 "nbformat": 4,
 "nbformat_minor": 2
}
