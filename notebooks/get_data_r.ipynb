{
 "cells": [
  {
   "cell_type": "markdown",
   "metadata": {},
   "source": [
    "# Wikipedia Clickstream\n",
    "\n",
    "The idea for this function was inspired by [this blog post](https://blog.wikimedia.org/2018/01/16/wikipedia-rabbit-hole-clickstream/). "
   ]
  },
  {
   "cell_type": "code",
   "execution_count": 1,
   "metadata": {},
   "outputs": [
    {
     "name": "stderr",
     "output_type": "stream",
     "text": [
      "Creating a generic function for ‘toJSON’ from package ‘jsonlite’ in package ‘googleVis’\n",
      "\n",
      "Welcome to googleVis version 0.6.2\n",
      "\n",
      "Please read Google's Terms of Use\n",
      "before you start using the package:\n",
      "https://developers.google.com/terms/\n",
      "\n",
      "Note, the plot method of googleVis will by default use\n",
      "the standard browser to display its output.\n",
      "\n",
      "See the googleVis package vignettes for more details,\n",
      "or visit http://github.com/mages/googleVis.\n",
      "\n",
      "To suppress this message use:\n",
      "suppressPackageStartupMessages(library(googleVis))\n",
      "\n",
      "Loading tidyverse: ggplot2\n",
      "Loading tidyverse: tibble\n",
      "Loading tidyverse: tidyr\n",
      "Loading tidyverse: readr\n",
      "Loading tidyverse: purrr\n",
      "Loading tidyverse: dplyr\n",
      "Conflicts with tidy packages ---------------------------------------------------\n",
      "filter(): dplyr, stats\n",
      "lag():    dplyr, stats\n"
     ]
    }
   ],
   "source": [
    "library(feather)\n",
    "library(googleVis)\n",
    "library(tidyverse)"
   ]
  },
  {
   "cell_type": "markdown",
   "metadata": {},
   "source": [
    "## Get data"
   ]
  },
  {
   "cell_type": "code",
   "execution_count": 2,
   "metadata": {},
   "outputs": [],
   "source": [
    "url <- \"https://dumps.wikimedia.org/other/clickstream/2018-01/\"\n",
    "data_root <- \"/labs/data/raw\"\n",
    "\n",
    "maybe_download <- function(filename) {\n",
    "    dest_filename <- file.path(data_root, filename)\n",
    "    if (!file.exists(dest_filename)) {\n",
    "        print(paste(\"Attempting to download:\", filename))\n",
    "        download.file(file.path(url, filename), dest_filename)\n",
    "        print(\"Download complete!\")\n",
    "    }\n",
    "    dest_filename\n",
    "}"
   ]
  },
  {
   "cell_type": "markdown",
   "metadata": {},
   "source": [
    "We'll use the most recent month of data that is available, which is from January 2018. \n",
    "\n",
    "The data is made up of counts of _(referer, resource)_ pairs. The resource is the Wikipedia page that the user lands on and the referer is how they got there (via a link, a search, etc.). \n",
    "\n",
    "The data contains about 28.5M of these _(referer, resource)_ pairs."
   ]
  },
  {
   "cell_type": "code",
   "execution_count": 3,
   "metadata": {},
   "outputs": [],
   "source": [
    "clickstream_filename <- maybe_download(\"clickstream-enwiki-2018-01.tsv.gz\")"
   ]
  },
  {
   "cell_type": "code",
   "execution_count": 4,
   "metadata": {},
   "outputs": [],
   "source": [
    "dat <- read_delim(\n",
    "    clickstream_filename, \n",
    "    delim = \"\\t\",\n",
    "    col_names = c(\"prev\", \"curr\", \"type\", \"n\"),\n",
    "    col_types = \"ccci\",\n",
    "    escape_double = FALSE\n",
    ")"
   ]
  },
  {
   "cell_type": "code",
   "execution_count": 5,
   "metadata": {},
   "outputs": [
    {
     "data": {
      "text/html": [
       "'The data has 28,538,901 rows.'"
      ],
      "text/latex": [
       "'The data has 28,538,901 rows.'"
      ],
      "text/markdown": [
       "'The data has 28,538,901 rows.'"
      ],
      "text/plain": [
       "[1] \"The data has 28,538,901 rows.\""
      ]
     },
     "metadata": {},
     "output_type": "display_data"
    }
   ],
   "source": [
    "paste(\"The data has\", prettyNum(nrow(dat), big.mark = \",\"), \"rows.\")"
   ]
  },
  {
   "cell_type": "markdown",
   "metadata": {},
   "source": [
    "Referers are grouped in the following way: \n",
    "\n",
    "- article in main [namespace](https://en.wikipedia.org/wiki/Wikipedia:Namespace) of Wikipedia --> article title\n",
    "- article in other Wikimedia project --> `other-internal`\n",
    "- external search engine --> `other-search`\n",
    "- other external site --> `other-external`\n",
    "- [empty referer](https://stackoverflow.com/a/6880668) --> `other-empty`\n",
    "- anything else --> `other-other`\n",
    "\n",
    "The data contains the following columns:\n",
    "\n",
    "- **prev**: the referer group \n",
    "- **curr**: title of the requested article \n",
    "- **type**: one of \n",
    "    - `link`: referer and request are both articles, and referer links to request\n",
    "    - `external`: referer host is not `en(.m)?.wikipedia.org`\n",
    "    - `other`: referer and request are both articles, and referer does not link to request\n",
    "- **n**: number of occurrences of the _(referer, resource)_ pair\n",
    "\n",
    "Please see [here](https://meta.wikimedia.org/wiki/Research:Wikipedia_clickstream) for a more in-depth explanation of the data."
   ]
  },
  {
   "cell_type": "code",
   "execution_count": 6,
   "metadata": {},
   "outputs": [],
   "source": [
    "df <- dat %>%\n",
    "    filter(!startsWith(prev, \"other-\"))"
   ]
  },
  {
   "cell_type": "code",
   "execution_count": 7,
   "metadata": {},
   "outputs": [
    {
     "data": {
      "text/html": [
       "'The data where the referer was Wikipedia has 17,490,626 rows.'"
      ],
      "text/latex": [
       "'The data where the referer was Wikipedia has 17,490,626 rows.'"
      ],
      "text/markdown": [
       "'The data where the referer was Wikipedia has 17,490,626 rows.'"
      ],
      "text/plain": [
       "[1] \"The data where the referer was Wikipedia has 17,490,626 rows.\""
      ]
     },
     "metadata": {},
     "output_type": "display_data"
    }
   ],
   "source": [
    "paste(\"The data where the referer was Wikipedia has\", prettyNum(nrow(df), big.mark = \",\"), \"rows.\")"
   ]
  },
  {
   "cell_type": "code",
   "execution_count": 8,
   "metadata": {},
   "outputs": [],
   "source": [
    "write_feather(df, \"/labs/data/processed/wikipedia_referer.feather\")"
   ]
  },
  {
   "cell_type": "code",
   "execution_count": null,
   "metadata": {},
   "outputs": [],
   "source": []
  }
 ],
 "metadata": {
  "kernelspec": {
   "display_name": "R",
   "language": "R",
   "name": "ir"
  },
  "language_info": {
   "codemirror_mode": "r",
   "file_extension": ".r",
   "mimetype": "text/x-r-source",
   "name": "R",
   "pygments_lexer": "r",
   "version": "3.3.2"
  },
  "latex_envs": {
   "LaTeX_envs_menu_present": true,
   "autocomplete": true,
   "bibliofile": "biblio.bib",
   "cite_by": "apalike",
   "current_citInitial": 1,
   "eqLabelWithNumbers": true,
   "eqNumInitial": 1,
   "hotkeys": {
    "equation": "Ctrl-E",
    "itemize": "Ctrl-I"
   },
   "labels_anchors": false,
   "latex_user_defs": false,
   "report_style_numbering": false,
   "user_envs_cfg": false
  },
  "toc": {
   "nav_menu": {},
   "number_sections": true,
   "sideBar": true,
   "skip_h1_title": true,
   "title_cell": "Table of Contents",
   "title_sidebar": "Contents",
   "toc_cell": false,
   "toc_position": {},
   "toc_section_display": true,
   "toc_window_display": false
  }
 },
 "nbformat": 4,
 "nbformat_minor": 2
}
